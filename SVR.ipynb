{
 "cells": [
  {
   "cell_type": "markdown",
   "metadata": {},
   "source": [
    "***Importing Libraries***"
   ]
  },
  {
   "cell_type": "code",
   "execution_count": 1,
   "metadata": {},
   "outputs": [],
   "source": [
    "import numpy as np\n",
    "import pandas as pd\n",
    "import yfinance as yf\n",
    "import plotly.graph_objs as go\n",
    "from sklearn.model_selection import train_test_split\n",
    "from sklearn.model_selection import GridSearchCV\n",
    "from sklearn.svm import SVR\n",
    "from datetime import date, timedelta\n",
    "import matplotlib.pyplot as plt\n",
    "import seaborn as sns\n",
    "import warnings\n",
    "warnings.filterwarnings(\"ignore\")"
   ]
  },
  {
   "cell_type": "markdown",
   "metadata": {},
   "source": [
    "***Reading and Processing Data***"
   ]
  },
  {
   "cell_type": "code",
   "execution_count": 2,
   "metadata": {},
   "outputs": [
    {
     "name": "stdout",
     "output_type": "stream",
     "text": [
      "[*********************100%***********************]  1 of 1 completed\n"
     ]
    }
   ],
   "source": [
    "raw_data = yf.download(tickers='AAPL', period='5y')\n",
    "df = raw_data.copy()"
   ]
  },
  {
   "cell_type": "code",
   "execution_count": 3,
   "metadata": {},
   "outputs": [
    {
     "data": {
      "text/html": [
       "<div>\n",
       "<style scoped>\n",
       "    .dataframe tbody tr th:only-of-type {\n",
       "        vertical-align: middle;\n",
       "    }\n",
       "\n",
       "    .dataframe tbody tr th {\n",
       "        vertical-align: top;\n",
       "    }\n",
       "\n",
       "    .dataframe thead th {\n",
       "        text-align: right;\n",
       "    }\n",
       "</style>\n",
       "<table border=\"1\" class=\"dataframe\">\n",
       "  <thead>\n",
       "    <tr style=\"text-align: right;\">\n",
       "      <th></th>\n",
       "      <th>Open</th>\n",
       "      <th>High</th>\n",
       "      <th>Low</th>\n",
       "      <th>Close</th>\n",
       "      <th>Adj Close</th>\n",
       "      <th>Volume</th>\n",
       "    </tr>\n",
       "    <tr>\n",
       "      <th>Date</th>\n",
       "      <th></th>\n",
       "      <th></th>\n",
       "      <th></th>\n",
       "      <th></th>\n",
       "      <th></th>\n",
       "      <th></th>\n",
       "    </tr>\n",
       "  </thead>\n",
       "  <tbody>\n",
       "    <tr>\n",
       "      <th>2017-01-09</th>\n",
       "      <td>29.487499</td>\n",
       "      <td>29.857500</td>\n",
       "      <td>29.485001</td>\n",
       "      <td>29.747499</td>\n",
       "      <td>28.000778</td>\n",
       "      <td>134247600</td>\n",
       "    </tr>\n",
       "    <tr>\n",
       "      <th>2017-01-10</th>\n",
       "      <td>29.692499</td>\n",
       "      <td>29.844999</td>\n",
       "      <td>29.575001</td>\n",
       "      <td>29.777500</td>\n",
       "      <td>28.029020</td>\n",
       "      <td>97848400</td>\n",
       "    </tr>\n",
       "    <tr>\n",
       "      <th>2017-01-11</th>\n",
       "      <td>29.684999</td>\n",
       "      <td>29.982500</td>\n",
       "      <td>29.650000</td>\n",
       "      <td>29.937500</td>\n",
       "      <td>28.179623</td>\n",
       "      <td>110354400</td>\n",
       "    </tr>\n",
       "    <tr>\n",
       "      <th>2017-01-12</th>\n",
       "      <td>29.725000</td>\n",
       "      <td>29.825001</td>\n",
       "      <td>29.552500</td>\n",
       "      <td>29.812500</td>\n",
       "      <td>28.061960</td>\n",
       "      <td>108344800</td>\n",
       "    </tr>\n",
       "    <tr>\n",
       "      <th>2017-01-13</th>\n",
       "      <td>29.777500</td>\n",
       "      <td>29.905001</td>\n",
       "      <td>29.702499</td>\n",
       "      <td>29.760000</td>\n",
       "      <td>28.012548</td>\n",
       "      <td>104447600</td>\n",
       "    </tr>\n",
       "  </tbody>\n",
       "</table>\n",
       "</div>"
      ],
      "text/plain": [
       "                 Open       High        Low      Close  Adj Close     Volume\n",
       "Date                                                                        \n",
       "2017-01-09  29.487499  29.857500  29.485001  29.747499  28.000778  134247600\n",
       "2017-01-10  29.692499  29.844999  29.575001  29.777500  28.029020   97848400\n",
       "2017-01-11  29.684999  29.982500  29.650000  29.937500  28.179623  110354400\n",
       "2017-01-12  29.725000  29.825001  29.552500  29.812500  28.061960  108344800\n",
       "2017-01-13  29.777500  29.905001  29.702499  29.760000  28.012548  104447600"
      ]
     },
     "execution_count": 3,
     "metadata": {},
     "output_type": "execute_result"
    }
   ],
   "source": [
    "df.head()"
   ]
  },
  {
   "cell_type": "code",
   "execution_count": 4,
   "metadata": {},
   "outputs": [],
   "source": [
    "size = int(len(df) * 0.8)\n",
    "train, test = df[0:size], df[size:len(df)]"
   ]
  },
  {
   "cell_type": "code",
   "execution_count": 5,
   "metadata": {},
   "outputs": [],
   "source": [
    "X_train = train.drop(['Close'], axis=1)\n",
    "y_train = train['Close']\n",
    "X_test = test.drop(['Close'], axis=1)\n",
    "y_test = test['Close']"
   ]
  },
  {
   "cell_type": "code",
   "execution_count": 6,
   "metadata": {},
   "outputs": [
    {
     "data": {
      "text/plain": [
       "array([[ 29.74749947],\n",
       "       [ 29.77750015],\n",
       "       [ 29.9375    ],\n",
       "       ...,\n",
       "       [131.00999451],\n",
       "       [126.59999847],\n",
       "       [130.91999817]])"
      ]
     },
     "execution_count": 6,
     "metadata": {},
     "output_type": "execute_result"
    }
   ],
   "source": [
    "y_train.values.reshape(-1, 1)"
   ]
  },
  {
   "cell_type": "markdown",
   "metadata": {},
   "source": [
    "***Scaling the Data***"
   ]
  },
  {
   "cell_type": "code",
   "execution_count": 7,
   "metadata": {},
   "outputs": [],
   "source": [
    "#Scaling the data so that svr can converge the data even faster\n",
    "from sklearn.preprocessing import StandardScaler\n",
    "scale = StandardScaler()\n",
    "X_train_scaled = scale.fit_transform(X_train)\n",
    "X_test_scaled = scale.fit_transform(X_test)\n",
    "y_train_scaled = scale.fit_transform(y_train.values.reshape(-1, 1))\n",
    "y_test_scaled = scale.fit_transform(y_test.values.reshape(-1, 1))"
   ]
  },
  {
   "cell_type": "markdown",
   "metadata": {},
   "source": [
    "***Tuning with RBF Kernel***"
   ]
  },
  {
   "cell_type": "code",
   "execution_count": 9,
   "metadata": {},
   "outputs": [],
   "source": [
    "gsc = GridSearchCV(\n",
    "    estimator=SVR(kernel='rbf'),\n",
    "    param_grid={\n",
    "        'C': [0.001, 0.01, 0.1, 1, 100, 1000],\n",
    "        'epsilon': [0.0001, 0.001, 0.01, 0.1, 1, 10, 100, 1000],\n",
    "        'gamma': [0.0001, 0.001, 0.1, 1, 100, 1000]\n",
    "    })"
   ]
  },
  {
   "cell_type": "code",
   "execution_count": 13,
   "metadata": {},
   "outputs": [],
   "source": [
    "grid_result = gsc.fit(X_train_scaled, y_train_scaled)\n",
    "best_params = grid_result.best_params_"
   ]
  },
  {
   "cell_type": "code",
   "execution_count": 14,
   "metadata": {},
   "outputs": [],
   "source": [
    "\n",
    "rbf_svr = SVR(kernel='rbf',\n",
    "                C=best_params[\"C\"],\n",
    "                epsilon=best_params[\"epsilon\"],\n",
    "                gamma=best_params[\"gamma\"])"
   ]
  },
  {
   "cell_type": "code",
   "execution_count": 15,
   "metadata": {},
   "outputs": [
    {
     "data": {
      "text/plain": [
       "SVR(C=1000, epsilon=0.001, gamma=0.0001)"
      ]
     },
     "execution_count": 15,
     "metadata": {},
     "output_type": "execute_result"
    }
   ],
   "source": [
    "rbf_svr.fit(X_train_scaled, y_train_scaled)"
   ]
  },
  {
   "cell_type": "code",
   "execution_count": 16,
   "metadata": {},
   "outputs": [],
   "source": [
    "rbf_pred = rbf_svr.predict(X_test_scaled)"
   ]
  },
  {
   "cell_type": "code",
   "execution_count": 14,
   "metadata": {},
   "outputs": [],
   "source": [
    "from sklearn.metrics import mean_squared_error"
   ]
  },
  {
   "cell_type": "code",
   "execution_count": 19,
   "metadata": {},
   "outputs": [
    {
     "data": {
      "text/plain": [
       "0.025012462622669446"
      ]
     },
     "execution_count": 19,
     "metadata": {},
     "output_type": "execute_result"
    }
   ],
   "source": [
    "rbf_rmse = np.sqrt(mean_squared_error(y_test_scaled, rbf_pred))\n",
    "rbf_rmse"
   ]
  },
  {
   "cell_type": "markdown",
   "metadata": {},
   "source": [
    "***Tuning with Linear Kernel***"
   ]
  },
  {
   "cell_type": "code",
   "execution_count": 10,
   "metadata": {},
   "outputs": [],
   "source": [
    "#Reduced hyperparameter ranges as it is taking a long time for execution. The parameter ranges are set based on best values from rbf_svr\n",
    "gsc_linear = GridSearchCV(\n",
    "    estimator=SVR(kernel='linear'),\n",
    "    param_grid={\n",
    "        'C': [0.1, 1, 100],\n",
    "        'epsilon': [0.001, 0.01, 0.1, 1],\n",
    "        'gamma': [0.0001, 0.001, 0.1, 1]\n",
    "    })"
   ]
  },
  {
   "cell_type": "code",
   "execution_count": 11,
   "metadata": {},
   "outputs": [],
   "source": [
    "grid_result_linear = gsc_linear.fit(X_train_scaled, y_train_scaled)\n",
    "best_params_linear = grid_result_linear.best_params_"
   ]
  },
  {
   "cell_type": "code",
   "execution_count": 12,
   "metadata": {},
   "outputs": [],
   "source": [
    "linear_svr = SVR(kernel='linear',\n",
    "                C=best_params_linear[\"C\"],\n",
    "                epsilon=best_params_linear[\"epsilon\"],\n",
    "                gamma=best_params_linear[\"gamma\"])"
   ]
  },
  {
   "cell_type": "code",
   "execution_count": 13,
   "metadata": {},
   "outputs": [
    {
     "data": {
      "text/plain": [
       "SVR(C=0.1, epsilon=0.001, gamma=0.0001, kernel='linear')"
      ]
     },
     "execution_count": 13,
     "metadata": {},
     "output_type": "execute_result"
    }
   ],
   "source": [
    "linear_svr.fit(X_train_scaled, y_train_scaled)"
   ]
  },
  {
   "cell_type": "code",
   "execution_count": 14,
   "metadata": {},
   "outputs": [],
   "source": [
    "linear_pred = linear_svr.predict(X_test_scaled)"
   ]
  },
  {
   "cell_type": "code",
   "execution_count": 17,
   "metadata": {},
   "outputs": [
    {
     "data": {
      "text/plain": [
       "0.03136060328212074"
      ]
     },
     "execution_count": 17,
     "metadata": {},
     "output_type": "execute_result"
    }
   ],
   "source": [
    "linear_rmse = np.sqrt(mean_squared_error(y_test_scaled, linear_pred))\n",
    "linear_rmse"
   ]
  },
  {
   "cell_type": "markdown",
   "metadata": {},
   "source": [
    "***Tuning with Polynomial Kernel***"
   ]
  },
  {
   "cell_type": "code",
   "execution_count": 8,
   "metadata": {},
   "outputs": [],
   "source": [
    "gsc_poly = GridSearchCV(\n",
    "    estimator=SVR(kernel='poly'),\n",
    "    param_grid={\n",
    "        'C': [0.1, 1, 100],\n",
    "        'epsilon': [0.001, 0.01, 0.1, 1],\n",
    "        'gamma': [0.0001, 0.001, 0.1, 1]\n",
    "    })"
   ]
  },
  {
   "cell_type": "code",
   "execution_count": 9,
   "metadata": {},
   "outputs": [],
   "source": [
    "grid_result_poly = gsc_poly.fit(X_train_scaled, y_train_scaled)\n",
    "best_params_poly = grid_result_poly.best_params_"
   ]
  },
  {
   "cell_type": "code",
   "execution_count": 10,
   "metadata": {},
   "outputs": [],
   "source": [
    "poly_svr = SVR(kernel='poly',\n",
    "                C=best_params_poly[\"C\"],\n",
    "                epsilon=best_params_poly[\"epsilon\"],\n",
    "                gamma=best_params_poly[\"gamma\"])"
   ]
  },
  {
   "cell_type": "code",
   "execution_count": 11,
   "metadata": {},
   "outputs": [
    {
     "data": {
      "text/plain": [
       "SVR(C=100, epsilon=0.001, gamma=0.001, kernel='poly')"
      ]
     },
     "execution_count": 11,
     "metadata": {},
     "output_type": "execute_result"
    }
   ],
   "source": [
    "poly_svr.fit(X_train_scaled, y_train_scaled)"
   ]
  },
  {
   "cell_type": "code",
   "execution_count": 12,
   "metadata": {},
   "outputs": [],
   "source": [
    "poly_pred = poly_svr.predict(X_test_scaled)"
   ]
  },
  {
   "cell_type": "code",
   "execution_count": 15,
   "metadata": {},
   "outputs": [
    {
     "data": {
      "text/plain": [
       "1.038405646241796"
      ]
     },
     "execution_count": 15,
     "metadata": {},
     "output_type": "execute_result"
    }
   ],
   "source": [
    "poly_rmse = np.sqrt(mean_squared_error(y_test_scaled, poly_pred))\n",
    "poly_rmse"
   ]
  },
  {
   "cell_type": "markdown",
   "metadata": {},
   "source": [
    "After tuning the hyperparameters for different SVR (rbf, linear, poly) models, the rmse for SVR with rbf kernel is the lowest. Hence using the best parameters of rbf kernel for SVR."
   ]
  },
  {
   "cell_type": "markdown",
   "metadata": {},
   "source": [
    "***Prediction with SVR(rbf kernel)***"
   ]
  },
  {
   "cell_type": "code",
   "execution_count": 16,
   "metadata": {},
   "outputs": [],
   "source": [
    "svr_model = SVR(kernel='rbf', C=1000, epsilon=0.001, gamma=0.0001)"
   ]
  },
  {
   "cell_type": "code",
   "execution_count": 17,
   "metadata": {},
   "outputs": [
    {
     "data": {
      "text/plain": [
       "SVR(C=1000, epsilon=0.001, gamma=0.0001)"
      ]
     },
     "execution_count": 17,
     "metadata": {},
     "output_type": "execute_result"
    }
   ],
   "source": [
    "svr_model.fit(X_train_scaled, y_train_scaled)"
   ]
  },
  {
   "cell_type": "code",
   "execution_count": 18,
   "metadata": {},
   "outputs": [
    {
     "data": {
      "text/plain": [
       "0.024898659883014408"
      ]
     },
     "execution_count": 18,
     "metadata": {},
     "output_type": "execute_result"
    }
   ],
   "source": [
    "predict_svr = svr_model.predict(X_test_scaled)\n",
    "rmse_svr = np.sqrt(mean_squared_error(y_test_scaled, predict_svr))\n",
    "rmse_svr"
   ]
  },
  {
   "cell_type": "markdown",
   "metadata": {},
   "source": [
    "Need to inverse the transformation of the data to get the original values."
   ]
  },
  {
   "cell_type": "code",
   "execution_count": 19,
   "metadata": {},
   "outputs": [
    {
     "data": {
      "text/plain": [
       "array([131.52270756, 129.07695197, 128.50586271, 130.63804796,\n",
       "       129.03123454, 127.55531068, 127.8206543 , 131.6123486 ,\n",
       "       136.8619543 , 138.30861744, 141.24895708, 142.53531603,\n",
       "       141.58691482, 137.47677544, 131.78389098, 133.43496848,\n",
       "       134.92071259, 133.84251999, 136.58249948, 136.51353992,\n",
       "       136.45313241, 136.25401634, 135.27194856, 134.89135935,\n",
       "       135.08589844, 133.35759166, 130.76840738, 129.31158313,\n",
       "       129.80174535, 126.57427629, 124.42621978, 124.78940698,\n",
       "       121.76378208, 122.1041517 , 127.20034028, 125.56626264,\n",
       "       122.65210084, 120.50982988, 120.80558458, 117.02943042,\n",
       "       121.31051606, 120.40064952, 122.26028658, 120.99732979,\n",
       "       123.66762246, 125.87555399, 124.65858199, 121.011923  ,\n",
       "       120.55082507, 123.3760272 , 122.97820468, 120.64126491,\n",
       "       120.91176372, 121.11196403, 121.7793159 , 120.0832837 ,\n",
       "       122.54960296, 123.31902848, 125.69987431, 126.42018874,\n",
       "       127.62183861, 130.17188412, 132.54970515, 131.28857287,\n",
       "       134.09414341, 132.1631551 , 134.48047866, 134.01224356,\n",
       "       134.76195081, 132.99149315, 133.14596086, 132.15897765,\n",
       "       134.24147615, 134.45306893, 134.44950334, 133.65411773,\n",
       "       133.49553139, 131.82254531, 132.80943496, 127.90958824,\n",
       "       128.55892567, 129.42076966, 130.37725822, 127.33663374,\n",
       "       125.8133071 , 123.34837634, 125.45545663, 127.60320308,\n",
       "       126.36465598, 125.41922743, 124.85293633, 127.43353764,\n",
       "       125.90998583, 127.47111796, 127.23303383, 127.17968705,\n",
       "       125.91434755, 125.09874568, 124.70146034, 125.34045068,\n",
       "       123.95191073, 126.02935327, 126.00953021, 127.32892512,\n",
       "       127.42256869, 126.72763117, 127.48810759, 130.18541481,\n",
       "       130.0037936 , 130.03739797, 131.87335949, 130.81660566,\n",
       "       131.96649413, 133.79362034, 133.86885852, 133.55459616,\n",
       "       133.32607612, 134.85059103, 136.16699177, 136.98347808,\n",
       "       137.0635899 , 139.71868039, 142.0416153 , 144.23973896,\n",
       "       142.94962843, 144.87668057, 144.46157102, 145.69168224,\n",
       "       148.92476709, 148.2309671 , 146.61302514, 142.3860949 ,\n",
       "       145.83552359, 145.28567387, 146.91209862, 148.21003698,\n",
       "       148.83997688, 146.5354319 , 144.72325579, 145.64838903,\n",
       "       145.6581579 , 145.58504667, 147.06936145, 146.83127233,\n",
       "       146.92397339, 146.26431128, 146.1327328 , 145.94635851,\n",
       "       146.01726457, 148.54408475, 149.01279363, 150.2609176 ,\n",
       "       150.25537932, 146.80617423, 146.71547933, 148.03972255,\n",
       "       149.56598597, 149.83090446, 148.46236473, 147.82025958,\n",
       "       148.3633796 , 152.59326886, 151.79785537, 152.99071439,\n",
       "       153.5080429 , 154.11281949, 156.42996804, 154.91937379,\n",
       "       154.2638406 , 149.45428648, 149.62884024, 148.1495229 ,\n",
       "       148.49473788, 148.49634509, 146.24978521, 142.88235487,\n",
       "       143.55303242, 145.68501432, 146.65652917, 146.9333511 ,\n",
       "       145.14357722, 142.41329048, 143.15657795, 141.88374246,\n",
       "       141.9554239 , 139.33785366, 141.28478354, 141.55077841,\n",
       "       143.5013814 , 143.03985839, 143.19091221, 141.64042805,\n",
       "       140.6422154 , 143.53249851, 144.75520116, 146.23095354,\n",
       "       148.56182822, 149.18349799, 149.21127898, 148.90465075,\n",
       "       148.55811973, 149.61977047, 148.91611162, 152.36361321,\n",
       "       149.33984839, 148.84827859, 150.23734939, 151.31835662,\n",
       "       151.12967827, 151.2101471 , 150.63242042, 151.0058514 ,\n",
       "       148.26025674, 148.1846447 , 149.79542288, 150.37796069,\n",
       "       150.97600749, 153.67563346, 157.49823565, 160.11537112,\n",
       "       162.11688291, 161.00521852, 161.62323922, 157.19155958,\n",
       "       160.3111345 , 164.83269911, 165.69531261, 163.10307033,\n",
       "       161.73450951, 165.9045815 , 170.9482506 , 174.64864698,\n",
       "       174.9747477 , 178.96991053, 176.4872144 , 174.5350473 ,\n",
       "       178.18779154, 172.90511562, 171.66935649, 169.65658197,\n",
       "       172.27410692, 175.22987363, 176.28525569, 180.04114079,\n",
       "       179.51835596, 179.40403507, 178.58597367, 177.86566193,\n",
       "       181.8033329 , 179.96206348, 175.41439494, 172.6649931 ])"
      ]
     },
     "execution_count": 19,
     "metadata": {},
     "output_type": "execute_result"
    }
   ],
   "source": [
    "prediction = scale.inverse_transform(predict_svr)\n",
    "prediction"
   ]
  },
  {
   "cell_type": "code",
   "execution_count": 20,
   "metadata": {},
   "outputs": [],
   "source": [
    "test_copy = test.copy()\n",
    "test_copy['Prediction'] = prediction"
   ]
  },
  {
   "cell_type": "code",
   "execution_count": 23,
   "metadata": {},
   "outputs": [
    {
     "data": {
      "image/png": "[encoded data removed]",
      "text/plain": [
       "<Figure size 864x576 with 1 Axes>"
      ]
     },
     "metadata": {
      "needs_background": "light"
     },
     "output_type": "display_data"
    }
   ],
   "source": [
    "fig, ax = plt.subplots(figsize=(12, 8))\n",
    "train.Close.plot(label='Train', legend=True)\n",
    "test.Close.plot(label='Test', legend=True)\n",
    "test_copy.Close.plot(label='Predicted', legend=True)\n",
    "plt.legend()\n",
    "plt.show()"
   ]
  },
  {
   "cell_type": "code",
   "execution_count": null,
   "metadata": {},
   "outputs": [],
   "source": []
  }
 ],
 "metadata": {
  "interpreter": {
   "hash": "a12d46612f4cf99c28b15358448942db35e319fbec03e3ae1ce6d2d5040e9b28"
  },
  "kernelspec": {
   "display_name": "Python 3.9.9 64-bit (windows store)",
   "language": "python",
   "name": "python3"
  },
  "language_info": {
   "codemirror_mode": {
    "name": "ipython",
    "version": 3
   },
   "file_extension": ".py",
   "mimetype": "text/x-python",
   "name": "python",
   "nbconvert_exporter": "python",
   "pygments_lexer": "ipython3",
   "version": "3.9.9"
  },
  "orig_nbformat": 4
 },
 "nbformat": 4,
 "nbformat_minor": 2
}
